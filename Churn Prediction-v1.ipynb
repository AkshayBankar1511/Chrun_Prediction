{
 "cells": [
  {
   "cell_type": "markdown",
   "id": "357048f4",
   "metadata": {},
   "source": [
    "#### 1. Import required libraries"
   ]
  },
  {
   "cell_type": "code",
   "execution_count": 79,
   "id": "1581fa29",
   "metadata": {},
   "outputs": [],
   "source": [
    "import pandas as pd\n",
    "import numpy as np\n",
    "from sklearn.preprocessing import MinMaxScaler\n",
    "from sklearn.linear_model import LogisticRegression\n",
    "from sklearn.metrics import f1_score\n",
    "\n",
    "# For visualization\n",
    "import matplotlib.pyplot as plt\n",
    "%matplotlib inline\n",
    "import seaborn as sns"
   ]
  },
  {
   "cell_type": "markdown",
   "id": "4c4c46d2",
   "metadata": {},
   "source": [
    "#### 2.  Read the train dataset"
   ]
  },
  {
   "cell_type": "code",
   "execution_count": 2,
   "id": "68e33d12",
   "metadata": {},
   "outputs": [],
   "source": [
    "train = pd.read_csv('02._train.csv')"
   ]
  },
  {
   "cell_type": "markdown",
   "id": "6e9b2348",
   "metadata": {},
   "source": [
    "#### 3. Display the top 5 rows of train dataset"
   ]
  },
  {
   "cell_type": "code",
   "execution_count": 3,
   "id": "24a0919d",
   "metadata": {},
   "outputs": [
    {
     "data": {
      "text/html": [
       "<div>\n",
       "<style scoped>\n",
       "    .dataframe tbody tr th:only-of-type {\n",
       "        vertical-align: middle;\n",
       "    }\n",
       "\n",
       "    .dataframe tbody tr th {\n",
       "        vertical-align: top;\n",
       "    }\n",
       "\n",
       "    .dataframe thead th {\n",
       "        text-align: right;\n",
       "    }\n",
       "</style>\n",
       "<table border=\"1\" class=\"dataframe\">\n",
       "  <thead>\n",
       "    <tr style=\"text-align: right;\">\n",
       "      <th></th>\n",
       "      <th>ID</th>\n",
       "      <th>Age</th>\n",
       "      <th>Gender</th>\n",
       "      <th>Income</th>\n",
       "      <th>Balance</th>\n",
       "      <th>Vintage</th>\n",
       "      <th>Transaction_Status</th>\n",
       "      <th>Product_Holdings</th>\n",
       "      <th>Credit_Card</th>\n",
       "      <th>Credit_Category</th>\n",
       "      <th>Is_Churn</th>\n",
       "    </tr>\n",
       "  </thead>\n",
       "  <tbody>\n",
       "    <tr>\n",
       "      <th>0</th>\n",
       "      <td>84e2fcc9</td>\n",
       "      <td>36</td>\n",
       "      <td>Female</td>\n",
       "      <td>5L - 10L</td>\n",
       "      <td>563266.44</td>\n",
       "      <td>4</td>\n",
       "      <td>0</td>\n",
       "      <td>1</td>\n",
       "      <td>0</td>\n",
       "      <td>Average</td>\n",
       "      <td>1</td>\n",
       "    </tr>\n",
       "    <tr>\n",
       "      <th>1</th>\n",
       "      <td>57fea15e</td>\n",
       "      <td>53</td>\n",
       "      <td>Female</td>\n",
       "      <td>Less than 5L</td>\n",
       "      <td>875572.11</td>\n",
       "      <td>2</td>\n",
       "      <td>1</td>\n",
       "      <td>1</td>\n",
       "      <td>1</td>\n",
       "      <td>Poor</td>\n",
       "      <td>0</td>\n",
       "    </tr>\n",
       "    <tr>\n",
       "      <th>2</th>\n",
       "      <td>8df34ef3</td>\n",
       "      <td>35</td>\n",
       "      <td>Female</td>\n",
       "      <td>More than 15L</td>\n",
       "      <td>701607.06</td>\n",
       "      <td>2</td>\n",
       "      <td>1</td>\n",
       "      <td>2</td>\n",
       "      <td>0</td>\n",
       "      <td>Poor</td>\n",
       "      <td>0</td>\n",
       "    </tr>\n",
       "    <tr>\n",
       "      <th>3</th>\n",
       "      <td>c5c0788b</td>\n",
       "      <td>43</td>\n",
       "      <td>Female</td>\n",
       "      <td>More than 15L</td>\n",
       "      <td>1393922.16</td>\n",
       "      <td>0</td>\n",
       "      <td>1</td>\n",
       "      <td>2</td>\n",
       "      <td>1</td>\n",
       "      <td>Poor</td>\n",
       "      <td>1</td>\n",
       "    </tr>\n",
       "    <tr>\n",
       "      <th>4</th>\n",
       "      <td>951d69c4</td>\n",
       "      <td>39</td>\n",
       "      <td>Female</td>\n",
       "      <td>More than 15L</td>\n",
       "      <td>893146.23</td>\n",
       "      <td>1</td>\n",
       "      <td>1</td>\n",
       "      <td>1</td>\n",
       "      <td>1</td>\n",
       "      <td>Good</td>\n",
       "      <td>1</td>\n",
       "    </tr>\n",
       "  </tbody>\n",
       "</table>\n",
       "</div>"
      ],
      "text/plain": [
       "         ID  Age  Gender         Income     Balance  Vintage  \\\n",
       "0  84e2fcc9   36  Female       5L - 10L   563266.44        4   \n",
       "1  57fea15e   53  Female   Less than 5L   875572.11        2   \n",
       "2  8df34ef3   35  Female  More than 15L   701607.06        2   \n",
       "3  c5c0788b   43  Female  More than 15L  1393922.16        0   \n",
       "4  951d69c4   39  Female  More than 15L   893146.23        1   \n",
       "\n",
       "   Transaction_Status Product_Holdings  Credit_Card Credit_Category  Is_Churn  \n",
       "0                   0                1            0         Average         1  \n",
       "1                   1                1            1            Poor         0  \n",
       "2                   1                2            0            Poor         0  \n",
       "3                   1                2            1            Poor         1  \n",
       "4                   1                1            1            Good         1  "
      ]
     },
     "execution_count": 3,
     "metadata": {},
     "output_type": "execute_result"
    }
   ],
   "source": [
    "train.head()"
   ]
  },
  {
   "cell_type": "markdown",
   "id": "30189a90",
   "metadata": {},
   "source": [
    "### 4. Exploratory Data Analysis\n",
    "\n",
    "EDA helps us to understand the data better. We will check if the data is containing NULLS or not, what is the data type of the columns, checking for stats, distribution, outliers, etc."
   ]
  },
  {
   "cell_type": "markdown",
   "id": "73c892be",
   "metadata": {},
   "source": [
    "#### 4.1. Checking the data types and if columns are containing nulls or not"
   ]
  },
  {
   "cell_type": "code",
   "execution_count": 4,
   "id": "25f139f5",
   "metadata": {},
   "outputs": [
    {
     "name": "stdout",
     "output_type": "stream",
     "text": [
      "<class 'pandas.core.frame.DataFrame'>\n",
      "RangeIndex: 6650 entries, 0 to 6649\n",
      "Data columns (total 11 columns):\n",
      " #   Column              Non-Null Count  Dtype  \n",
      "---  ------              --------------  -----  \n",
      " 0   ID                  6650 non-null   object \n",
      " 1   Age                 6650 non-null   int64  \n",
      " 2   Gender              6650 non-null   object \n",
      " 3   Income              6650 non-null   object \n",
      " 4   Balance             6650 non-null   float64\n",
      " 5   Vintage             6650 non-null   int64  \n",
      " 6   Transaction_Status  6650 non-null   int64  \n",
      " 7   Product_Holdings    6650 non-null   object \n",
      " 8   Credit_Card         6650 non-null   int64  \n",
      " 9   Credit_Category     6650 non-null   object \n",
      " 10  Is_Churn            6650 non-null   int64  \n",
      "dtypes: float64(1), int64(5), object(5)\n",
      "memory usage: 571.6+ KB\n"
     ]
    }
   ],
   "source": [
    "train.info()"
   ]
  },
  {
   "cell_type": "markdown",
   "id": "a998c4a6",
   "metadata": {},
   "source": [
    "<hr>\n",
    "\n",
    "<b>Observations: -</b> \n",
    "\n",
    "From the above cell, we can see that : - \n",
    "1. Number of Observation in train set: 6650\n",
    "2. Number of Observation in test set: 2851\n",
    "3. None of the columns in train and test datasets are containing NULLS"
   ]
  },
  {
   "cell_type": "markdown",
   "id": "97e34f10",
   "metadata": {},
   "source": [
    "#### 4.2. Understanding the statistics of the train datasets"
   ]
  },
  {
   "cell_type": "code",
   "execution_count": 5,
   "id": "e46eb089",
   "metadata": {},
   "outputs": [
    {
     "data": {
      "text/html": [
       "<div>\n",
       "<style scoped>\n",
       "    .dataframe tbody tr th:only-of-type {\n",
       "        vertical-align: middle;\n",
       "    }\n",
       "\n",
       "    .dataframe tbody tr th {\n",
       "        vertical-align: top;\n",
       "    }\n",
       "\n",
       "    .dataframe thead th {\n",
       "        text-align: right;\n",
       "    }\n",
       "</style>\n",
       "<table border=\"1\" class=\"dataframe\">\n",
       "  <thead>\n",
       "    <tr style=\"text-align: right;\">\n",
       "      <th></th>\n",
       "      <th>Age</th>\n",
       "      <th>Balance</th>\n",
       "      <th>Vintage</th>\n",
       "      <th>Transaction_Status</th>\n",
       "      <th>Credit_Card</th>\n",
       "      <th>Is_Churn</th>\n",
       "    </tr>\n",
       "  </thead>\n",
       "  <tbody>\n",
       "    <tr>\n",
       "      <th>count</th>\n",
       "      <td>6650.000000</td>\n",
       "      <td>6.650000e+03</td>\n",
       "      <td>6650.000000</td>\n",
       "      <td>6650.000000</td>\n",
       "      <td>6650.000000</td>\n",
       "      <td>6650.000000</td>\n",
       "    </tr>\n",
       "    <tr>\n",
       "      <th>mean</th>\n",
       "      <td>41.130226</td>\n",
       "      <td>8.045954e+05</td>\n",
       "      <td>2.250226</td>\n",
       "      <td>0.515789</td>\n",
       "      <td>0.664361</td>\n",
       "      <td>0.231128</td>\n",
       "    </tr>\n",
       "    <tr>\n",
       "      <th>std</th>\n",
       "      <td>9.685747</td>\n",
       "      <td>5.157549e+05</td>\n",
       "      <td>1.458795</td>\n",
       "      <td>0.499788</td>\n",
       "      <td>0.472249</td>\n",
       "      <td>0.421586</td>\n",
       "    </tr>\n",
       "    <tr>\n",
       "      <th>min</th>\n",
       "      <td>21.000000</td>\n",
       "      <td>6.300000e+01</td>\n",
       "      <td>0.000000</td>\n",
       "      <td>0.000000</td>\n",
       "      <td>0.000000</td>\n",
       "      <td>0.000000</td>\n",
       "    </tr>\n",
       "    <tr>\n",
       "      <th>25%</th>\n",
       "      <td>34.000000</td>\n",
       "      <td>3.922642e+05</td>\n",
       "      <td>1.000000</td>\n",
       "      <td>0.000000</td>\n",
       "      <td>0.000000</td>\n",
       "      <td>0.000000</td>\n",
       "    </tr>\n",
       "    <tr>\n",
       "      <th>50%</th>\n",
       "      <td>40.000000</td>\n",
       "      <td>7.649386e+05</td>\n",
       "      <td>2.000000</td>\n",
       "      <td>1.000000</td>\n",
       "      <td>1.000000</td>\n",
       "      <td>0.000000</td>\n",
       "    </tr>\n",
       "    <tr>\n",
       "      <th>75%</th>\n",
       "      <td>47.000000</td>\n",
       "      <td>1.147124e+06</td>\n",
       "      <td>3.000000</td>\n",
       "      <td>1.000000</td>\n",
       "      <td>1.000000</td>\n",
       "      <td>0.000000</td>\n",
       "    </tr>\n",
       "    <tr>\n",
       "      <th>max</th>\n",
       "      <td>72.000000</td>\n",
       "      <td>2.436616e+06</td>\n",
       "      <td>5.000000</td>\n",
       "      <td>1.000000</td>\n",
       "      <td>1.000000</td>\n",
       "      <td>1.000000</td>\n",
       "    </tr>\n",
       "  </tbody>\n",
       "</table>\n",
       "</div>"
      ],
      "text/plain": [
       "               Age       Balance      Vintage  Transaction_Status  \\\n",
       "count  6650.000000  6.650000e+03  6650.000000         6650.000000   \n",
       "mean     41.130226  8.045954e+05     2.250226            0.515789   \n",
       "std       9.685747  5.157549e+05     1.458795            0.499788   \n",
       "min      21.000000  6.300000e+01     0.000000            0.000000   \n",
       "25%      34.000000  3.922642e+05     1.000000            0.000000   \n",
       "50%      40.000000  7.649386e+05     2.000000            1.000000   \n",
       "75%      47.000000  1.147124e+06     3.000000            1.000000   \n",
       "max      72.000000  2.436616e+06     5.000000            1.000000   \n",
       "\n",
       "       Credit_Card     Is_Churn  \n",
       "count  6650.000000  6650.000000  \n",
       "mean      0.664361     0.231128  \n",
       "std       0.472249     0.421586  \n",
       "min       0.000000     0.000000  \n",
       "25%       0.000000     0.000000  \n",
       "50%       1.000000     0.000000  \n",
       "75%       1.000000     0.000000  \n",
       "max       1.000000     1.000000  "
      ]
     },
     "execution_count": 5,
     "metadata": {},
     "output_type": "execute_result"
    }
   ],
   "source": [
    "train.describe()"
   ]
  },
  {
   "cell_type": "markdown",
   "id": "a5aa7ce5",
   "metadata": {},
   "source": [
    "<hr>\n",
    "<b>Observations: -</b>\n",
    "    \n",
    "    1. There are total 10 features in our datasets. 10 independant features and 1 dependant feature.\n",
    "    2. 6 features in our train datasets are of Numerical data type(integer), while other 5 are of object data type."
   ]
  },
  {
   "cell_type": "markdown",
   "id": "71fc8d2e",
   "metadata": {},
   "source": [
    "#### 4.3. Looking at the object and numerical data types"
   ]
  },
  {
   "cell_type": "code",
   "execution_count": 6,
   "id": "510072af",
   "metadata": {},
   "outputs": [
    {
     "data": {
      "text/html": [
       "<div>\n",
       "<style scoped>\n",
       "    .dataframe tbody tr th:only-of-type {\n",
       "        vertical-align: middle;\n",
       "    }\n",
       "\n",
       "    .dataframe tbody tr th {\n",
       "        vertical-align: top;\n",
       "    }\n",
       "\n",
       "    .dataframe thead th {\n",
       "        text-align: right;\n",
       "    }\n",
       "</style>\n",
       "<table border=\"1\" class=\"dataframe\">\n",
       "  <thead>\n",
       "    <tr style=\"text-align: right;\">\n",
       "      <th></th>\n",
       "      <th>ID</th>\n",
       "      <th>Gender</th>\n",
       "      <th>Income</th>\n",
       "      <th>Product_Holdings</th>\n",
       "      <th>Credit_Category</th>\n",
       "    </tr>\n",
       "  </thead>\n",
       "  <tbody>\n",
       "    <tr>\n",
       "      <th>0</th>\n",
       "      <td>84e2fcc9</td>\n",
       "      <td>Female</td>\n",
       "      <td>5L - 10L</td>\n",
       "      <td>1</td>\n",
       "      <td>Average</td>\n",
       "    </tr>\n",
       "    <tr>\n",
       "      <th>1</th>\n",
       "      <td>57fea15e</td>\n",
       "      <td>Female</td>\n",
       "      <td>Less than 5L</td>\n",
       "      <td>1</td>\n",
       "      <td>Poor</td>\n",
       "    </tr>\n",
       "    <tr>\n",
       "      <th>2</th>\n",
       "      <td>8df34ef3</td>\n",
       "      <td>Female</td>\n",
       "      <td>More than 15L</td>\n",
       "      <td>2</td>\n",
       "      <td>Poor</td>\n",
       "    </tr>\n",
       "    <tr>\n",
       "      <th>3</th>\n",
       "      <td>c5c0788b</td>\n",
       "      <td>Female</td>\n",
       "      <td>More than 15L</td>\n",
       "      <td>2</td>\n",
       "      <td>Poor</td>\n",
       "    </tr>\n",
       "    <tr>\n",
       "      <th>4</th>\n",
       "      <td>951d69c4</td>\n",
       "      <td>Female</td>\n",
       "      <td>More than 15L</td>\n",
       "      <td>1</td>\n",
       "      <td>Good</td>\n",
       "    </tr>\n",
       "  </tbody>\n",
       "</table>\n",
       "</div>"
      ],
      "text/plain": [
       "         ID  Gender         Income Product_Holdings Credit_Category\n",
       "0  84e2fcc9  Female       5L - 10L                1         Average\n",
       "1  57fea15e  Female   Less than 5L                1            Poor\n",
       "2  8df34ef3  Female  More than 15L                2            Poor\n",
       "3  c5c0788b  Female  More than 15L                2            Poor\n",
       "4  951d69c4  Female  More than 15L                1            Good"
      ]
     },
     "execution_count": 6,
     "metadata": {},
     "output_type": "execute_result"
    }
   ],
   "source": [
    "train.select_dtypes('O').head()"
   ]
  },
  {
   "cell_type": "code",
   "execution_count": 7,
   "id": "6cc9719e",
   "metadata": {},
   "outputs": [
    {
     "data": {
      "text/html": [
       "<div>\n",
       "<style scoped>\n",
       "    .dataframe tbody tr th:only-of-type {\n",
       "        vertical-align: middle;\n",
       "    }\n",
       "\n",
       "    .dataframe tbody tr th {\n",
       "        vertical-align: top;\n",
       "    }\n",
       "\n",
       "    .dataframe thead th {\n",
       "        text-align: right;\n",
       "    }\n",
       "</style>\n",
       "<table border=\"1\" class=\"dataframe\">\n",
       "  <thead>\n",
       "    <tr style=\"text-align: right;\">\n",
       "      <th></th>\n",
       "      <th>Age</th>\n",
       "      <th>Vintage</th>\n",
       "      <th>Transaction_Status</th>\n",
       "      <th>Credit_Card</th>\n",
       "      <th>Is_Churn</th>\n",
       "    </tr>\n",
       "  </thead>\n",
       "  <tbody>\n",
       "    <tr>\n",
       "      <th>0</th>\n",
       "      <td>36</td>\n",
       "      <td>4</td>\n",
       "      <td>0</td>\n",
       "      <td>0</td>\n",
       "      <td>1</td>\n",
       "    </tr>\n",
       "    <tr>\n",
       "      <th>1</th>\n",
       "      <td>53</td>\n",
       "      <td>2</td>\n",
       "      <td>1</td>\n",
       "      <td>1</td>\n",
       "      <td>0</td>\n",
       "    </tr>\n",
       "    <tr>\n",
       "      <th>2</th>\n",
       "      <td>35</td>\n",
       "      <td>2</td>\n",
       "      <td>1</td>\n",
       "      <td>0</td>\n",
       "      <td>0</td>\n",
       "    </tr>\n",
       "    <tr>\n",
       "      <th>3</th>\n",
       "      <td>43</td>\n",
       "      <td>0</td>\n",
       "      <td>1</td>\n",
       "      <td>1</td>\n",
       "      <td>1</td>\n",
       "    </tr>\n",
       "    <tr>\n",
       "      <th>4</th>\n",
       "      <td>39</td>\n",
       "      <td>1</td>\n",
       "      <td>1</td>\n",
       "      <td>1</td>\n",
       "      <td>1</td>\n",
       "    </tr>\n",
       "  </tbody>\n",
       "</table>\n",
       "</div>"
      ],
      "text/plain": [
       "   Age  Vintage  Transaction_Status  Credit_Card  Is_Churn\n",
       "0   36        4                   0            0         1\n",
       "1   53        2                   1            1         0\n",
       "2   35        2                   1            0         0\n",
       "3   43        0                   1            1         1\n",
       "4   39        1                   1            1         1"
      ]
     },
     "execution_count": 7,
     "metadata": {},
     "output_type": "execute_result"
    }
   ],
   "source": [
    "train.select_dtypes('int64').head()"
   ]
  },
  {
   "cell_type": "markdown",
   "id": "fcd8fe2f",
   "metadata": {},
   "source": [
    "#### 4.4. Checking the unique values in the object data type features"
   ]
  },
  {
   "cell_type": "code",
   "execution_count": 8,
   "id": "62b8762d",
   "metadata": {},
   "outputs": [],
   "source": [
    "def get_unique_vals(df, name):\n",
    "    \"\"\"\n",
    "    This function prints the unique values in all the columns having object datatypes of the dataset.\n",
    "    Parameters:    \n",
    "    1. df: DataFrame\n",
    "    2. name: String value which is used to identify the name of the dataframe\n",
    "    \n",
    "    Returns: None\n",
    "    \"\"\"\n",
    "    cols = [col for col in df.select_dtypes('O').columns]\n",
    "    for col in cols:\n",
    "        if col == 'ID':\n",
    "            continue\n",
    "        print(f'Unique values in column: {col} in {name} dataset are:' + str(df[col].unique()))"
   ]
  },
  {
   "cell_type": "code",
   "execution_count": 9,
   "id": "a4372bd2",
   "metadata": {},
   "outputs": [
    {
     "name": "stdout",
     "output_type": "stream",
     "text": [
      "Unique values in column: Gender in train dataset are:['Female' 'Male']\n",
      "Unique values in column: Income in train dataset are:['5L - 10L' 'Less than 5L' 'More than 15L' '10L - 15L']\n",
      "Unique values in column: Product_Holdings in train dataset are:['1' '2' '3+']\n",
      "Unique values in column: Credit_Category in train dataset are:['Average' 'Poor' 'Good']\n"
     ]
    }
   ],
   "source": [
    "get_unique_vals(df= train, name='train')"
   ]
  },
  {
   "cell_type": "markdown",
   "id": "5e92586f",
   "metadata": {},
   "source": [
    "<hr>\n",
    "<b>Observations: -</b>\n",
    "\n",
    "    1. Gender contains: Male, Female.\n",
    "    2. Income contains: 5L - 10L, Less than 5L, More than 15L, 10L - 15L\n",
    "    3. Product_Holdings contains: 1, 2, 3+\n",
    "    4. Credit_Category contains: Average, Poor, Good"
   ]
  },
  {
   "cell_type": "markdown",
   "id": "372dba77",
   "metadata": {},
   "source": [
    "#### 4.5. Understand the portion of customers churned or retained"
   ]
  },
  {
   "cell_type": "code",
   "execution_count": 10,
   "id": "fef2437c",
   "metadata": {},
   "outputs": [
    {
     "data": {
      "image/png": "[encoded data removed]",
      "text/plain": [
       "<Figure size 720x576 with 1 Axes>"
      ]
     },
     "metadata": {},
     "output_type": "display_data"
    }
   ],
   "source": [
    "labels = 'Churned', 'Retained'\n",
    "sizes = [train.Is_Churn[train['Is_Churn']==1].count(), train.Is_Churn[train['Is_Churn']==0].count()]\n",
    "explode = (0, 0.1)\n",
    "fig1, ax1 = plt.subplots(figsize=(10, 8))\n",
    "ax1.pie(sizes, explode=explode, labels=labels, autopct='%1.1f%%',\n",
    "        shadow=True, startangle=90)\n",
    "ax1.axis('equal')\n",
    "plt.title(\"Proportion of customer churned and retained\", size = 20)\n",
    "plt.show()"
   ]
  },
  {
   "cell_type": "markdown",
   "id": "7917194e",
   "metadata": {},
   "source": [
    "<hr>\n",
    "\n",
    "<b>Observation: -</b>\n",
    "    \n",
    "So approximate 23% of the customers have churned. So the baseline model could be to predict that approx 23% of the customers will churn. Given approx 23% is a small number, we need to ensure that the chosen model does predict with great accuracy."
   ]
  },
  {
   "cell_type": "markdown",
   "id": "023ddb2e",
   "metadata": {},
   "source": [
    "#### 4.6. Understanding the relations between the categorical features"
   ]
  },
  {
   "cell_type": "code",
   "execution_count": 11,
   "id": "1447bb4c",
   "metadata": {},
   "outputs": [
    {
     "data": {
      "text/plain": [
       "<AxesSubplot:xlabel='Product_Holdings', ylabel='count'>"
      ]
     },
     "execution_count": 11,
     "metadata": {},
     "output_type": "execute_result"
    },
    {
     "data": {
      "image/png": "[encoded data removed]",
      "text/plain": [
       "<Figure size 1440x1080 with 9 Axes>"
      ]
     },
     "metadata": {
      "needs_background": "light"
     },
     "output_type": "display_data"
    }
   ],
   "source": [
    "fig, axarr = plt.subplots(3, 3, figsize=(20, 15))\n",
    "\n",
    "sns.countplot(x='Gender', hue = 'Income',data = train, ax=axarr[0][0])\n",
    "sns.countplot(x='Gender', hue = 'Product_Holdings',data = train, ax=axarr[0][1])\n",
    "sns.countplot(x='Gender', hue = 'Product_Holdings',data = train, ax=axarr[0][2])\n",
    "\n",
    "sns.countplot(x='Income', hue = 'Product_Holdings',data = train, ax=axarr[1][0])\n",
    "sns.countplot(x='Income', hue = 'Product_Holdings',data = train, ax=axarr[1][1])\n",
    "sns.countplot(x='Product_Holdings', hue = 'Credit_Category',data = train, ax=axarr[1][2])\n",
    "\n",
    "\n",
    "sns.countplot(x='Gender', hue = 'Gender',data = train, ax=axarr[2][0])\n",
    "sns.countplot(x='Income', hue = 'Income',data = train, ax=axarr[2][1])\n",
    "sns.countplot(x='Product_Holdings', hue = 'Product_Holdings',data = train, ax=axarr[2][2])"
   ]
  },
  {
   "cell_type": "markdown",
   "id": "a413fdac",
   "metadata": {},
   "source": [
    "<hr>\n",
    "<b> Observation: -</b> \n",
    "\n",
    "    1. Credit_Category: for most of the observations in our train dataset is Poor.\n",
    "    2. Income: For most of the observations in our train dataset is between 5-10L & 10L-15L.\n",
    "    3. Product_Holdings: for most of the observations hold 2 products."
   ]
  },
  {
   "cell_type": "markdown",
   "id": "870d3734",
   "metadata": {},
   "source": [
    "#### 4.7. Understanding the relations between the dependant and independant feature"
   ]
  },
  {
   "cell_type": "code",
   "execution_count": 12,
   "id": "dc3a9266",
   "metadata": {},
   "outputs": [
    {
     "data": {
      "text/plain": [
       "<AxesSubplot:xlabel='Vintage', ylabel='count'>"
      ]
     },
     "execution_count": 12,
     "metadata": {},
     "output_type": "execute_result"
    },
    {
     "data": {
      "image/png": "[encoded data removed]",
      "text/plain": [
       "<Figure size 1440x864 with 6 Axes>"
      ]
     },
     "metadata": {
      "needs_background": "light"
     },
     "output_type": "display_data"
    }
   ],
   "source": [
    "fig, axarr = plt.subplots(3, 2, figsize=(20, 12))\n",
    "sns.countplot(x='Income', hue = 'Is_Churn',data = train, ax=axarr[0][0])\n",
    "sns.countplot(x='Gender', hue = 'Is_Churn',data = train, ax=axarr[0][1])\n",
    "sns.countplot(x='Product_Holdings', hue = 'Is_Churn',data = train, ax=axarr[1][0])\n",
    "sns.countplot(x='Credit_Card', hue = 'Is_Churn',data = train, ax=axarr[1][1])\n",
    "sns.countplot(x='Transaction_Status', hue = 'Is_Churn',data = train, ax=axarr[2][0])\n",
    "sns.countplot(x='Vintage', hue = 'Is_Churn',data = train, ax=axarr[2][1])"
   ]
  },
  {
   "cell_type": "code",
   "execution_count": 13,
   "id": "eb5bbb77",
   "metadata": {},
   "outputs": [
    {
     "data": {
      "text/plain": [
       "<AxesSubplot:xlabel='Is_Churn', ylabel='Age'>"
      ]
     },
     "execution_count": 13,
     "metadata": {},
     "output_type": "execute_result"
    },
    {
     "data": {
      "image/png": "[encoded data removed]",
      "text/plain": [
       "<Figure size 432x288 with 1 Axes>"
      ]
     },
     "metadata": {
      "needs_background": "light"
     },
     "output_type": "display_data"
    }
   ],
   "source": [
    "sns.boxplot(y='Age',x = 'Is_Churn', hue = 'Is_Churn',data = train)"
   ]
  },
  {
   "cell_type": "markdown",
   "id": "0fcbb25a",
   "metadata": {},
   "source": [
    "#### 4.8. Correlation plot"
   ]
  },
  {
   "cell_type": "code",
   "execution_count": 14,
   "id": "6a100803",
   "metadata": {},
   "outputs": [
    {
     "data": {
      "text/plain": [
       "<AxesSubplot:>"
      ]
     },
     "execution_count": 14,
     "metadata": {},
     "output_type": "execute_result"
    },
    {
     "data": {
      "image/png": "[encoded data removed]",
      "text/plain": [
       "<Figure size 432x288 with 2 Axes>"
      ]
     },
     "metadata": {
      "needs_background": "light"
     },
     "output_type": "display_data"
    }
   ],
   "source": [
    "sns.heatmap(train.corr(), annot=True)"
   ]
  },
  {
   "cell_type": "markdown",
   "id": "d8fe1de0",
   "metadata": {},
   "source": [
    "<b> Observation: -</b>\n",
    "\n",
    "    1. None of the columns are having high positive correlation betwen them.\n",
    "    2. Credit card and Transacitonal status are having negative correlation with the dependent variable (Is_Churn)."
   ]
  },
  {
   "cell_type": "markdown",
   "id": "42d36f02",
   "metadata": {},
   "source": [
    "<hr>"
   ]
  },
  {
   "cell_type": "markdown",
   "id": "f0952203",
   "metadata": {},
   "source": [
    "### 5. Feature Engineering\n",
    "\n",
    "Manchine Learning model dont understand the categorical data, the data should always be in the numerical format. So, we will perform some feature engineering on the data"
   ]
  },
  {
   "cell_type": "markdown",
   "id": "b44ace14",
   "metadata": {},
   "source": [
    "#### 5.1. Perform train test split before performing feature engineering.\n",
    "\n",
    "We have to perform train test split on the train dataset, to prevent the data leakage and avoid overfitting of the machine learning model."
   ]
  },
  {
   "cell_type": "code",
   "execution_count": 15,
   "id": "3d34d301",
   "metadata": {},
   "outputs": [],
   "source": [
    "train_df = train.sample(frac=0.8, random_state= 94)\n",
    "validate_df = train.drop(train_df.index)"
   ]
  },
  {
   "cell_type": "code",
   "execution_count": 16,
   "id": "c2c8b429",
   "metadata": {},
   "outputs": [
    {
     "data": {
      "text/plain": [
       "((5320, 11), (1330, 11))"
      ]
     },
     "execution_count": 16,
     "metadata": {},
     "output_type": "execute_result"
    }
   ],
   "source": [
    "train_df.shape, validate_df.shape"
   ]
  },
  {
   "cell_type": "markdown",
   "id": "c8fee116",
   "metadata": {},
   "source": [
    "#### 5.2. Drop ID column as we dont need ID column to be fed as an input to our machine learning model."
   ]
  },
  {
   "cell_type": "code",
   "execution_count": 17,
   "id": "218c22f7",
   "metadata": {},
   "outputs": [],
   "source": [
    "train_df.drop(columns=['ID'], inplace=True)\n",
    "validate_df.drop(columns=['ID'], inplace=True)"
   ]
  },
  {
   "cell_type": "markdown",
   "id": "56b28507",
   "metadata": {},
   "source": [
    "#### 5.3. List all columns with categorical variable and perform encoding"
   ]
  },
  {
   "cell_type": "code",
   "execution_count": 19,
   "id": "53c53552",
   "metadata": {},
   "outputs": [
    {
     "data": {
      "text/html": [
       "<div>\n",
       "<style scoped>\n",
       "    .dataframe tbody tr th:only-of-type {\n",
       "        vertical-align: middle;\n",
       "    }\n",
       "\n",
       "    .dataframe tbody tr th {\n",
       "        vertical-align: top;\n",
       "    }\n",
       "\n",
       "    .dataframe thead th {\n",
       "        text-align: right;\n",
       "    }\n",
       "</style>\n",
       "<table border=\"1\" class=\"dataframe\">\n",
       "  <thead>\n",
       "    <tr style=\"text-align: right;\">\n",
       "      <th></th>\n",
       "      <th>Gender</th>\n",
       "      <th>Income</th>\n",
       "      <th>Product_Holdings</th>\n",
       "      <th>Credit_Category</th>\n",
       "    </tr>\n",
       "  </thead>\n",
       "  <tbody>\n",
       "    <tr>\n",
       "      <th>5725</th>\n",
       "      <td>Male</td>\n",
       "      <td>10L - 15L</td>\n",
       "      <td>2</td>\n",
       "      <td>Average</td>\n",
       "    </tr>\n",
       "    <tr>\n",
       "      <th>5369</th>\n",
       "      <td>Female</td>\n",
       "      <td>10L - 15L</td>\n",
       "      <td>1</td>\n",
       "      <td>Good</td>\n",
       "    </tr>\n",
       "    <tr>\n",
       "      <th>2655</th>\n",
       "      <td>Male</td>\n",
       "      <td>More than 15L</td>\n",
       "      <td>1</td>\n",
       "      <td>Average</td>\n",
       "    </tr>\n",
       "    <tr>\n",
       "      <th>2649</th>\n",
       "      <td>Male</td>\n",
       "      <td>More than 15L</td>\n",
       "      <td>1</td>\n",
       "      <td>Good</td>\n",
       "    </tr>\n",
       "    <tr>\n",
       "      <th>2062</th>\n",
       "      <td>Female</td>\n",
       "      <td>5L - 10L</td>\n",
       "      <td>1</td>\n",
       "      <td>Average</td>\n",
       "    </tr>\n",
       "  </tbody>\n",
       "</table>\n",
       "</div>"
      ],
      "text/plain": [
       "      Gender         Income Product_Holdings Credit_Category\n",
       "5725    Male      10L - 15L                2         Average\n",
       "5369  Female      10L - 15L                1            Good\n",
       "2655    Male  More than 15L                1         Average\n",
       "2649    Male  More than 15L                1            Good\n",
       "2062  Female       5L - 10L                1         Average"
      ]
     },
     "execution_count": 19,
     "metadata": {},
     "output_type": "execute_result"
    }
   ],
   "source": [
    "train_df.select_dtypes('O').head()"
   ]
  },
  {
   "cell_type": "markdown",
   "id": "185b0c65",
   "metadata": {},
   "source": [
    "#### 5.3.a. Convert Product_Holdings\n",
    "\n",
    "As we have seen that the column Product_Holdings contains only numbers, so we will just convert its data type to integer in both train and test datasets."
   ]
  },
  {
   "cell_type": "code",
   "execution_count": 20,
   "id": "2a78824c",
   "metadata": {},
   "outputs": [],
   "source": [
    "train_df['Product_Holdings'] = train_df['Product_Holdings'].str.replace('+', '', regex=True)\n",
    "validate_df['Product_Holdings'] = validate_df['Product_Holdings'].str.replace('+', '', regex=True)\n",
    "train_df['Product_Holdings'] = train_df['Product_Holdings'].astype(int)\n",
    "validate_df['Product_Holdings'] = validate_df['Product_Holdings'].astype(int)"
   ]
  },
  {
   "cell_type": "code",
   "execution_count": 21,
   "id": "a282d8f3",
   "metadata": {},
   "outputs": [
    {
     "data": {
      "text/html": [
       "<div>\n",
       "<style scoped>\n",
       "    .dataframe tbody tr th:only-of-type {\n",
       "        vertical-align: middle;\n",
       "    }\n",
       "\n",
       "    .dataframe tbody tr th {\n",
       "        vertical-align: top;\n",
       "    }\n",
       "\n",
       "    .dataframe thead th {\n",
       "        text-align: right;\n",
       "    }\n",
       "</style>\n",
       "<table border=\"1\" class=\"dataframe\">\n",
       "  <thead>\n",
       "    <tr style=\"text-align: right;\">\n",
       "      <th></th>\n",
       "      <th>Gender</th>\n",
       "      <th>Income</th>\n",
       "      <th>Credit_Category</th>\n",
       "    </tr>\n",
       "  </thead>\n",
       "  <tbody>\n",
       "    <tr>\n",
       "      <th>5725</th>\n",
       "      <td>Male</td>\n",
       "      <td>10L - 15L</td>\n",
       "      <td>Average</td>\n",
       "    </tr>\n",
       "    <tr>\n",
       "      <th>5369</th>\n",
       "      <td>Female</td>\n",
       "      <td>10L - 15L</td>\n",
       "      <td>Good</td>\n",
       "    </tr>\n",
       "    <tr>\n",
       "      <th>2655</th>\n",
       "      <td>Male</td>\n",
       "      <td>More than 15L</td>\n",
       "      <td>Average</td>\n",
       "    </tr>\n",
       "    <tr>\n",
       "      <th>2649</th>\n",
       "      <td>Male</td>\n",
       "      <td>More than 15L</td>\n",
       "      <td>Good</td>\n",
       "    </tr>\n",
       "    <tr>\n",
       "      <th>2062</th>\n",
       "      <td>Female</td>\n",
       "      <td>5L - 10L</td>\n",
       "      <td>Average</td>\n",
       "    </tr>\n",
       "  </tbody>\n",
       "</table>\n",
       "</div>"
      ],
      "text/plain": [
       "      Gender         Income Credit_Category\n",
       "5725    Male      10L - 15L         Average\n",
       "5369  Female      10L - 15L            Good\n",
       "2655    Male  More than 15L         Average\n",
       "2649    Male  More than 15L            Good\n",
       "2062  Female       5L - 10L         Average"
      ]
     },
     "execution_count": 21,
     "metadata": {},
     "output_type": "execute_result"
    }
   ],
   "source": [
    "train_df.select_dtypes('O').head()"
   ]
  },
  {
   "cell_type": "markdown",
   "id": "ad2dbff0",
   "metadata": {},
   "source": [
    "#### 5.3.b. Perform one-hot encoding on Gender column\n",
    "\n",
    "Since Gender feature is nominal (having no relationship within the category), so we will perform one hot encoding on this column. We will perform drop_first= True because we can derive the outcome of the column from the last one."
   ]
  },
  {
   "cell_type": "code",
   "execution_count": 27,
   "id": "afa28884",
   "metadata": {},
   "outputs": [],
   "source": [
    "train_gender = pd.get_dummies(train_df['Gender'], drop_first= True)"
   ]
  },
  {
   "cell_type": "code",
   "execution_count": 28,
   "id": "82158364",
   "metadata": {},
   "outputs": [],
   "source": [
    "train_df = pd.concat([train_df, train_gender], axis=1)"
   ]
  },
  {
   "cell_type": "code",
   "execution_count": 32,
   "id": "9a7078dd",
   "metadata": {},
   "outputs": [],
   "source": [
    "train_df.drop(columns=['Gender'], inplace= True)"
   ]
  },
  {
   "cell_type": "code",
   "execution_count": 33,
   "id": "01f34a2d",
   "metadata": {},
   "outputs": [
    {
     "data": {
      "text/html": [
       "<div>\n",
       "<style scoped>\n",
       "    .dataframe tbody tr th:only-of-type {\n",
       "        vertical-align: middle;\n",
       "    }\n",
       "\n",
       "    .dataframe tbody tr th {\n",
       "        vertical-align: top;\n",
       "    }\n",
       "\n",
       "    .dataframe thead th {\n",
       "        text-align: right;\n",
       "    }\n",
       "</style>\n",
       "<table border=\"1\" class=\"dataframe\">\n",
       "  <thead>\n",
       "    <tr style=\"text-align: right;\">\n",
       "      <th></th>\n",
       "      <th>Age</th>\n",
       "      <th>Income</th>\n",
       "      <th>Balance</th>\n",
       "      <th>Vintage</th>\n",
       "      <th>Transaction_Status</th>\n",
       "      <th>Product_Holdings</th>\n",
       "      <th>Credit_Card</th>\n",
       "      <th>Credit_Category</th>\n",
       "      <th>Is_Churn</th>\n",
       "      <th>Male</th>\n",
       "    </tr>\n",
       "  </thead>\n",
       "  <tbody>\n",
       "    <tr>\n",
       "      <th>5725</th>\n",
       "      <td>31</td>\n",
       "      <td>10L - 15L</td>\n",
       "      <td>1595556.63</td>\n",
       "      <td>5</td>\n",
       "      <td>0</td>\n",
       "      <td>2</td>\n",
       "      <td>1</td>\n",
       "      <td>Average</td>\n",
       "      <td>1</td>\n",
       "      <td>1</td>\n",
       "    </tr>\n",
       "    <tr>\n",
       "      <th>5369</th>\n",
       "      <td>59</td>\n",
       "      <td>10L - 15L</td>\n",
       "      <td>1247257.89</td>\n",
       "      <td>4</td>\n",
       "      <td>1</td>\n",
       "      <td>1</td>\n",
       "      <td>0</td>\n",
       "      <td>Good</td>\n",
       "      <td>1</td>\n",
       "      <td>0</td>\n",
       "    </tr>\n",
       "    <tr>\n",
       "      <th>2655</th>\n",
       "      <td>41</td>\n",
       "      <td>More than 15L</td>\n",
       "      <td>977622.12</td>\n",
       "      <td>2</td>\n",
       "      <td>0</td>\n",
       "      <td>1</td>\n",
       "      <td>1</td>\n",
       "      <td>Average</td>\n",
       "      <td>1</td>\n",
       "      <td>1</td>\n",
       "    </tr>\n",
       "    <tr>\n",
       "      <th>2649</th>\n",
       "      <td>43</td>\n",
       "      <td>More than 15L</td>\n",
       "      <td>1811800.26</td>\n",
       "      <td>0</td>\n",
       "      <td>0</td>\n",
       "      <td>1</td>\n",
       "      <td>1</td>\n",
       "      <td>Good</td>\n",
       "      <td>0</td>\n",
       "      <td>1</td>\n",
       "    </tr>\n",
       "    <tr>\n",
       "      <th>2062</th>\n",
       "      <td>44</td>\n",
       "      <td>5L - 10L</td>\n",
       "      <td>470702.07</td>\n",
       "      <td>2</td>\n",
       "      <td>1</td>\n",
       "      <td>1</td>\n",
       "      <td>1</td>\n",
       "      <td>Average</td>\n",
       "      <td>0</td>\n",
       "      <td>0</td>\n",
       "    </tr>\n",
       "  </tbody>\n",
       "</table>\n",
       "</div>"
      ],
      "text/plain": [
       "      Age         Income     Balance  Vintage  Transaction_Status  \\\n",
       "5725   31      10L - 15L  1595556.63        5                   0   \n",
       "5369   59      10L - 15L  1247257.89        4                   1   \n",
       "2655   41  More than 15L   977622.12        2                   0   \n",
       "2649   43  More than 15L  1811800.26        0                   0   \n",
       "2062   44       5L - 10L   470702.07        2                   1   \n",
       "\n",
       "      Product_Holdings  Credit_Card Credit_Category  Is_Churn  Male  \n",
       "5725                 2            1         Average         1     1  \n",
       "5369                 1            0            Good         1     0  \n",
       "2655                 1            1         Average         1     1  \n",
       "2649                 1            1            Good         0     1  \n",
       "2062                 1            1         Average         0     0  "
      ]
     },
     "execution_count": 33,
     "metadata": {},
     "output_type": "execute_result"
    }
   ],
   "source": [
    "train_df.head()"
   ]
  },
  {
   "cell_type": "code",
   "execution_count": 34,
   "id": "841083bb",
   "metadata": {},
   "outputs": [],
   "source": [
    "validate_gender = pd.get_dummies(validate_df['Gender'], drop_first= True)"
   ]
  },
  {
   "cell_type": "code",
   "execution_count": 35,
   "id": "41776eb4",
   "metadata": {},
   "outputs": [],
   "source": [
    "validate_df = pd.concat([validate_df, validate_gender], axis=1)"
   ]
  },
  {
   "cell_type": "code",
   "execution_count": 36,
   "id": "59d63420",
   "metadata": {},
   "outputs": [],
   "source": [
    "validate_df.drop(columns=['Gender'], inplace= True)"
   ]
  },
  {
   "cell_type": "code",
   "execution_count": 37,
   "id": "bf6cb659",
   "metadata": {},
   "outputs": [
    {
     "data": {
      "text/html": [
       "<div>\n",
       "<style scoped>\n",
       "    .dataframe tbody tr th:only-of-type {\n",
       "        vertical-align: middle;\n",
       "    }\n",
       "\n",
       "    .dataframe tbody tr th {\n",
       "        vertical-align: top;\n",
       "    }\n",
       "\n",
       "    .dataframe thead th {\n",
       "        text-align: right;\n",
       "    }\n",
       "</style>\n",
       "<table border=\"1\" class=\"dataframe\">\n",
       "  <thead>\n",
       "    <tr style=\"text-align: right;\">\n",
       "      <th></th>\n",
       "      <th>Age</th>\n",
       "      <th>Income</th>\n",
       "      <th>Balance</th>\n",
       "      <th>Vintage</th>\n",
       "      <th>Transaction_Status</th>\n",
       "      <th>Product_Holdings</th>\n",
       "      <th>Credit_Card</th>\n",
       "      <th>Credit_Category</th>\n",
       "      <th>Is_Churn</th>\n",
       "      <th>Male</th>\n",
       "    </tr>\n",
       "  </thead>\n",
       "  <tbody>\n",
       "    <tr>\n",
       "      <th>11</th>\n",
       "      <td>33</td>\n",
       "      <td>10L - 15L</td>\n",
       "      <td>1229087.79</td>\n",
       "      <td>3</td>\n",
       "      <td>1</td>\n",
       "      <td>2</td>\n",
       "      <td>1</td>\n",
       "      <td>Poor</td>\n",
       "      <td>0</td>\n",
       "      <td>0</td>\n",
       "    </tr>\n",
       "    <tr>\n",
       "      <th>13</th>\n",
       "      <td>32</td>\n",
       "      <td>More than 15L</td>\n",
       "      <td>189726.03</td>\n",
       "      <td>3</td>\n",
       "      <td>1</td>\n",
       "      <td>1</td>\n",
       "      <td>1</td>\n",
       "      <td>Good</td>\n",
       "      <td>0</td>\n",
       "      <td>1</td>\n",
       "    </tr>\n",
       "    <tr>\n",
       "      <th>14</th>\n",
       "      <td>33</td>\n",
       "      <td>10L - 15L</td>\n",
       "      <td>1626138.18</td>\n",
       "      <td>4</td>\n",
       "      <td>0</td>\n",
       "      <td>1</td>\n",
       "      <td>1</td>\n",
       "      <td>Poor</td>\n",
       "      <td>0</td>\n",
       "      <td>1</td>\n",
       "    </tr>\n",
       "    <tr>\n",
       "      <th>19</th>\n",
       "      <td>45</td>\n",
       "      <td>10L - 15L</td>\n",
       "      <td>30347.82</td>\n",
       "      <td>2</td>\n",
       "      <td>1</td>\n",
       "      <td>1</td>\n",
       "      <td>1</td>\n",
       "      <td>Poor</td>\n",
       "      <td>0</td>\n",
       "      <td>0</td>\n",
       "    </tr>\n",
       "    <tr>\n",
       "      <th>21</th>\n",
       "      <td>41</td>\n",
       "      <td>10L - 15L</td>\n",
       "      <td>1072086.66</td>\n",
       "      <td>4</td>\n",
       "      <td>1</td>\n",
       "      <td>2</td>\n",
       "      <td>1</td>\n",
       "      <td>Poor</td>\n",
       "      <td>1</td>\n",
       "      <td>1</td>\n",
       "    </tr>\n",
       "  </tbody>\n",
       "</table>\n",
       "</div>"
      ],
      "text/plain": [
       "    Age         Income     Balance  Vintage  Transaction_Status  \\\n",
       "11   33      10L - 15L  1229087.79        3                   1   \n",
       "13   32  More than 15L   189726.03        3                   1   \n",
       "14   33      10L - 15L  1626138.18        4                   0   \n",
       "19   45      10L - 15L    30347.82        2                   1   \n",
       "21   41      10L - 15L  1072086.66        4                   1   \n",
       "\n",
       "    Product_Holdings  Credit_Card Credit_Category  Is_Churn  Male  \n",
       "11                 2            1            Poor         0     0  \n",
       "13                 1            1            Good         0     1  \n",
       "14                 1            1            Poor         0     1  \n",
       "19                 1            1            Poor         0     0  \n",
       "21                 2            1            Poor         1     1  "
      ]
     },
     "execution_count": 37,
     "metadata": {},
     "output_type": "execute_result"
    }
   ],
   "source": [
    "validate_df.head()"
   ]
  },
  {
   "cell_type": "markdown",
   "id": "4efeaf46",
   "metadata": {},
   "source": [
    "<b>5.3.cb. Perform Label encoding for the ordinal columns </b>\n",
    "\n",
    "We will perform label encoding for Income and Creditm_Category columns as they are ordinal column."
   ]
  },
  {
   "cell_type": "code",
   "execution_count": 41,
   "id": "6541d773",
   "metadata": {},
   "outputs": [
    {
     "data": {
      "text/plain": [
       "array(['10L - 15L', 'More than 15L', '5L - 10L', 'Less than 5L'],\n",
       "      dtype=object)"
      ]
     },
     "execution_count": 41,
     "metadata": {},
     "output_type": "execute_result"
    }
   ],
   "source": [
    "train_df.Income.unique()"
   ]
  },
  {
   "cell_type": "code",
   "execution_count": 42,
   "id": "992921d5",
   "metadata": {},
   "outputs": [],
   "source": [
    "income_map = {'Less than 5L': 0, \n",
    "             '5L - 10L':1, \n",
    "             '10L - 15L':2, \n",
    "              'More than 15L':3\n",
    "             }"
   ]
  },
  {
   "cell_type": "code",
   "execution_count": 44,
   "id": "8ca5c732",
   "metadata": {},
   "outputs": [],
   "source": [
    "train_df.replace({'Income': income_map}, inplace=True)\n",
    "validate_df.replace({'Income': income_map}, inplace=True)"
   ]
  },
  {
   "cell_type": "code",
   "execution_count": 46,
   "id": "1103c05a",
   "metadata": {},
   "outputs": [
    {
     "data": {
      "text/plain": [
       "array(['Average', 'Good', 'Poor'], dtype=object)"
      ]
     },
     "execution_count": 46,
     "metadata": {},
     "output_type": "execute_result"
    }
   ],
   "source": [
    "train_df.Credit_Category.unique()"
   ]
  },
  {
   "cell_type": "code",
   "execution_count": 47,
   "id": "1ff35ff1",
   "metadata": {},
   "outputs": [],
   "source": [
    "category_map = {'Poor': 0,\n",
    "               'Average':1, \n",
    "               'Good':2}"
   ]
  },
  {
   "cell_type": "code",
   "execution_count": 48,
   "id": "e3dc27c9",
   "metadata": {},
   "outputs": [],
   "source": [
    "train_df.replace({'Credit_Category': category_map}, inplace=True)\n",
    "validate_df.replace({'Credit_Category': category_map}, inplace=True)"
   ]
  },
  {
   "cell_type": "markdown",
   "id": "3a1d6711",
   "metadata": {},
   "source": [
    "<b> 5.3.d. Perform min max scaling on Balance and Age column"
   ]
  },
  {
   "cell_type": "code",
   "execution_count": 54,
   "id": "bba4d2f0",
   "metadata": {},
   "outputs": [],
   "source": [
    "scaler = MinMaxScaler()\n",
    "train_df[['Age', 'Balance']] = scaler.fit_transform(train_df[['Age', 'Balance']])\n",
    "validate_df[['Age', 'Balance']] = scaler.fit_transform(validate_df[['Age', 'Balance']])"
   ]
  },
  {
   "cell_type": "markdown",
   "id": "0f92f859",
   "metadata": {},
   "source": [
    "### 6. Split the dependant and independant variable to feed input to the model"
   ]
  },
  {
   "cell_type": "code",
   "execution_count": 72,
   "id": "9014a8e3",
   "metadata": {},
   "outputs": [],
   "source": [
    "train_df = train_df[['Age', 'Income','Balance', 'Vintage', 'Transaction_Status','Product_Holdings', 'Credit_Card', 'Credit_Category','Male', 'Is_Churn']]\n",
    "X_train = train_df.iloc[:, :-1]\n",
    "y_train = train_df.iloc[:, -1]"
   ]
  },
  {
   "cell_type": "code",
   "execution_count": 73,
   "id": "c083e69b",
   "metadata": {},
   "outputs": [],
   "source": [
    "validate_df = validate_df[['Age', 'Income','Balance', 'Vintage', 'Transaction_Status','Product_Holdings', 'Credit_Card', 'Credit_Category','Male', 'Is_Churn']]\n",
    "X_val = validate_df.iloc[:, :-1]\n",
    "y_val = validate_df.iloc[:, -1]"
   ]
  },
  {
   "cell_type": "markdown",
   "id": "440b6fc1",
   "metadata": {},
   "source": [
    "### 6. Model development and training\n",
    "\n",
    "In this project, we will create 3 models and compare them based on F1-score metrics and see which model is the best out of the 3 models. The models that we will train are as below: -\n",
    "\n",
    "1. Logistic Regression\n",
    "2. Decision Tree Classifier.\n",
    "3. XGB Classifier."
   ]
  },
  {
   "cell_type": "code",
   "execution_count": 75,
   "id": "a93c78f6",
   "metadata": {},
   "outputs": [],
   "source": [
    "clf = LogisticRegression(random_state=94).fit(X_train, y_train)"
   ]
  },
  {
   "cell_type": "code",
   "execution_count": 76,
   "id": "7d3725bb",
   "metadata": {},
   "outputs": [],
   "source": [
    "y_pred= clf.predict(X_val)"
   ]
  },
  {
   "cell_type": "code",
   "execution_count": 80,
   "id": "39964036",
   "metadata": {},
   "outputs": [
    {
     "data": {
      "text/plain": [
       "0.08187134502923976"
      ]
     },
     "execution_count": 80,
     "metadata": {},
     "output_type": "execute_result"
    }
   ],
   "source": [
    "f1_score(y_val, y_pred)"
   ]
  },
  {
   "cell_type": "markdown",
   "id": "95a833ae",
   "metadata": {},
   "source": [
    "<hr>\n",
    "\n",
    "<b>Observation: -</b> \n",
    "    \n",
    "Logisitc Regression has 81.9% as F1-score."
   ]
  },
  {
   "cell_type": "markdown",
   "id": "87c8cf28",
   "metadata": {},
   "source": [
    "<hr>\n",
    "\n",
    "### Next steps: \n",
    "1. Create other 2 machine learning model and compare the performance of the models.\n",
    "2. Finlaise on model out of 3.\n",
    "3. Use the final model to predict on the test dataset."
   ]
  },
  {
   "cell_type": "code",
   "execution_count": null,
   "id": "dff38e5f",
   "metadata": {},
   "outputs": [],
   "source": []
  }
 ],
 "metadata": {
  "kernelspec": {
   "display_name": "Python 3 (ipykernel)",
   "language": "python",
   "name": "python3"
  },
  "language_info": {
   "codemirror_mode": {
    "name": "ipython",
    "version": 3
   },
   "file_extension": ".py",
   "mimetype": "text/x-python",
   "name": "python",
   "nbconvert_exporter": "python",
   "pygments_lexer": "ipython3",
   "version": "3.7.13"
  }
 },
 "nbformat": 4,
 "nbformat_minor": 5
}
